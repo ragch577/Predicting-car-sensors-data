{
  "nbformat": 4,
  "nbformat_minor": 0,
  "metadata": {
    "colab": {
      "name": "singleshot_multilayer_lstm_main.ipynb",
      "provenance": [],
      "collapsed_sections": [],
      "machine_shape": "hm"
    },
    "kernelspec": {
      "name": "python3",
      "display_name": "Python 3"
    },
    "accelerator": "GPU"
  },
  "cells": [
    {
      "cell_type": "code",
      "metadata": {
        "colab": {
          "base_uri": "https://localhost:8080/"
        },
        "id": "HCsrKa1kquR8",
        "outputId": "16eb7a8b-2561-4e64-ddea-e5fbcc592f76"
      },
      "source": [
        "from google.colab import drive\n",
        "drive.mount('/content/drive')"
      ],
      "execution_count": null,
      "outputs": [
        {
          "output_type": "stream",
          "text": [
            "Mounted at /content/drive\n"
          ],
          "name": "stdout"
        }
      ]
    },
    {
      "cell_type": "code",
      "metadata": {
        "id": "265UhiO0rE3k"
      },
      "source": [
        "import numpy as np\n",
        "import pandas as pd\n",
        "import matplotlib.pyplot as plt\n",
        "import os\n",
        "import sys\n",
        "import pathlib\n",
        "import torch\n",
        "import torch.nn as nn\n",
        "from torch.autograd import Variable\n",
        "from sklearn.preprocessing import MinMaxScaler\n",
        "from torch.utils.data import Dataset, DataLoader"
      ],
      "execution_count": null,
      "outputs": []
    },
    {
      "cell_type": "code",
      "metadata": {
        "id": "t-0kpLkzrfsC"
      },
      "source": [
        "#PATH = '/content/drive/My Drive/Colab Notebooks/projects/race_cars/data/068_001_-003_Tex_19_R_AR045.txt'\n",
        "PATH = '/content/drive/My Drive/race_cars_raghu/data/068_001_-003_Tex_19_R_AR045.txt'"
      ],
      "execution_count": null,
      "outputs": []
    },
    {
      "cell_type": "code",
      "metadata": {
        "id": "3oGhhYIbrlOh"
      },
      "source": [
        "df = pd.read_csv(PATH, delimiter = \"\\t\")"
      ],
      "execution_count": null,
      "outputs": []
    },
    {
      "cell_type": "code",
      "metadata": {
        "id": "S_SJqOTkrn12"
      },
      "source": [
        "df.head()"
      ],
      "execution_count": null,
      "outputs": []
    },
    {
      "cell_type": "code",
      "metadata": {
        "colab": {
          "base_uri": "https://localhost:8080/"
        },
        "id": "xcAGERyOrqTy",
        "outputId": "4be6d4b7-9345-43c0-ed21-78d1026a5398"
      },
      "source": [
        "training_set_fl = df.loc[:,'LoadFL']\n",
        "\n",
        "training_set_fl[:5]"
      ],
      "execution_count": null,
      "outputs": [
        {
          "output_type": "execute_result",
          "data": {
            "text/plain": [
              "0    395.268293\n",
              "1    411.758902\n",
              "2    396.903811\n",
              "3    418.232807\n",
              "4    398.130436\n",
              "Name: LoadFL, dtype: float64"
            ]
          },
          "metadata": {
            "tags": []
          },
          "execution_count": 6
        }
      ]
    },
    {
      "cell_type": "code",
      "metadata": {
        "id": "Dxz1JaOGrwz9"
      },
      "source": [
        "sc = MinMaxScaler()\n",
        "training_data_fl = sc.fit_transform(training_set_fl.values.reshape(-1, 1))"
      ],
      "execution_count": null,
      "outputs": []
    },
    {
      "cell_type": "code",
      "metadata": {
        "id": "L71N88zwr0YD"
      },
      "source": [
        "class UniVariantTimeSeriesDataset(Dataset):\n",
        "  def __init__(self, data, input_window = 120, output_window = 6, \n",
        "               train_data = True, split=0.7):\n",
        "    self.data = data\n",
        "    self.data_len = len(self.data)\n",
        "\n",
        "    # split train and test data based on the given param\n",
        "    self.data = self.data[: int(self.data_len * split)] if train_data else self.data[int(self.data_len * split): ]\n",
        "    self.data_len = len(self.data)\n",
        "\n",
        "    # convert to tensor\n",
        "    self.data = torch.tensor(self.data, dtype=torch.float32)\n",
        "\n",
        "    self.input_window = input_window\n",
        "    self.output_window = output_window\n",
        "    print(f\"total data length: {self.data_len}\")\n",
        "  \n",
        "  def __len__(self):\n",
        "    return self.data_len - self.input_window - self.output_window + 1\n",
        "\n",
        "  def __getitem__(self, idx):\n",
        "    assert idx + self.input_window + self.output_window <= self.data_len\n",
        "    x = self.data[idx: idx + self.input_window]\n",
        "    y = self.data[idx + self.input_window: idx + self.input_window + self.output_window]\n",
        "\n",
        "    return x, torch.squeeze(y)\n"
      ],
      "execution_count": null,
      "outputs": []
    },
    {
      "cell_type": "code",
      "metadata": {
        "colab": {
          "base_uri": "https://localhost:8080/"
        },
        "id": "Kna_WgdAr7G8",
        "outputId": "1b6ec062-e73d-44a0-ff36-e132665fddbf"
      },
      "source": [
        "INPUT_WINDOW=1200\n",
        "OUTPUT_WINDOW=600\n",
        "BATCH_SIZE=512\n",
        "train_fl_dataset_1outputstep = UniVariantTimeSeriesDataset(training_data_fl, INPUT_WINDOW, OUTPUT_WINDOW)\n",
        "test_fl_dataset_1outputstep = UniVariantTimeSeriesDataset(training_data_fl, INPUT_WINDOW, OUTPUT_WINDOW, train_data=False)"
      ],
      "execution_count": null,
      "outputs": [
        {
          "output_type": "stream",
          "text": [
            "total data length: 504979\n",
            "total data length: 216421\n"
          ],
          "name": "stdout"
        }
      ]
    },
    {
      "cell_type": "code",
      "metadata": {
        "id": "AyDm74p9r-ih"
      },
      "source": [
        "train_fl_dataloader_1outputstep = DataLoader(train_fl_dataset_1outputstep, batch_size=BATCH_SIZE, num_workers=2, pin_memory=True)\n",
        "test_fl_dataloader_1outputstep = DataLoader(test_fl_dataset_1outputstep, batch_size=BATCH_SIZE, num_workers=2, pin_memory=True)"
      ],
      "execution_count": null,
      "outputs": []
    },
    {
      "cell_type": "code",
      "metadata": {
        "colab": {
          "base_uri": "https://localhost:8080/"
        },
        "id": "4h6-DGt-sBGu",
        "outputId": "02be0a52-fae8-4bc7-c555-18a0a15c6ca4"
      },
      "source": [
        "for batch in test_fl_dataloader_1outputstep:\n",
        "  print(f\"X shape: {batch[0].shape}\")\n",
        "  print(f\"Y shape: {batch[1].shape}\")\n",
        "  # print(batch[0])\n",
        "  # print(batch[1])\n",
        "  break"
      ],
      "execution_count": null,
      "outputs": [
        {
          "output_type": "stream",
          "text": [
            "X shape: torch.Size([512, 1200, 1])\n",
            "Y shape: torch.Size([512, 600])\n"
          ],
          "name": "stdout"
        }
      ]
    },
    {
      "cell_type": "code",
      "metadata": {
        "id": "uCLtL51qsD0T"
      },
      "source": [
        "class MultilayerLSTM(nn.Module):\n",
        "\n",
        "    def __init__(self, num_classes, input_size, hidden_size, num_layers, seq_length):\n",
        "        super(MultilayerLSTM, self).__init__()\n",
        "        \n",
        "        self.num_classes = num_classes\n",
        "        self.num_layers = num_layers\n",
        "        self.input_size = input_size\n",
        "        self.hidden_size = hidden_size\n",
        "        self.seq_length = seq_length\n",
        "            \n",
        "        self.lstm = nn.LSTM(input_size=input_size, hidden_size=hidden_size,\n",
        "                            num_layers=num_layers, batch_first=True)\n",
        "        \n",
        "        self.fc1 = nn.Linear(2*hidden_size, 128)\n",
        "        self.bn1 = nn.BatchNorm1d(128)\n",
        "        self.do1 = nn.Dropout(0.25)\n",
        "\n",
        "        self.relu = nn.ReLU()\n",
        "        self.fc2 = nn.Linear(128, num_classes)\n",
        "\n",
        "\n",
        "    def forward(self, x):\n",
        "        # h_0 = Variable(torch.zeros(\n",
        "        #     self.num_layers, x.size(0), self.hidden_size))\n",
        "        \n",
        "        # c_0 = Variable(torch.zeros(\n",
        "        #     self.num_layers, x.size(0), self.hidden_size).cuda())\n",
        "        \n",
        "        # Propagate input through LSTM\n",
        "        out, (h_out, _) = self.lstm(x)\n",
        "\n",
        "        out = torch.cat((h_out[-1], out[:, -1, :]), dim=1)\n",
        "        out = self.fc1(out)\n",
        "        out = self.bn1(out)\n",
        "        out = self.do1(out)\n",
        "        out = self.relu(out)\n",
        "        out = self.fc2(out)\n",
        "\n",
        "        return out"
      ],
      "execution_count": null,
      "outputs": []
    },
    {
      "cell_type": "code",
      "metadata": {
        "colab": {
          "base_uri": "https://localhost:8080/"
        },
        "id": "B-40hvQqFUOk",
        "outputId": "dbf9083e-857b-4939-c6d9-e0ee1e16f111"
      },
      "source": [
        "learning_rate = 0.001\n",
        "\n",
        "input_size = 1\n",
        "hidden_size = 128\n",
        "num_layers = 6\n",
        "\n",
        "num_classes = OUTPUT_WINDOW\n",
        "\n",
        "\n",
        "multilayer_lstm = MultilayerLSTM(num_classes, input_size, hidden_size, num_layers, INPUT_WINDOW)\n",
        "\n",
        "criterion = torch.nn.L1Loss()    # mean-squared error for regression\n",
        "optimizer = torch.optim.Adam(multilayer_lstm.parameters(), lr=learning_rate)\n",
        "# optimizer = torch.optim.SGD(multilayer_lstm.parameters(), lr=learning_rate, momentum=0.9)\n",
        "\n",
        "scheduler = torch.optim.lr_scheduler.ReduceLROnPlateau(optimizer,  patience=2, factor =0.5 ,min_lr=1e-7, verbose=True)\n",
        "multilayer_lstm.cuda()"
      ],
      "execution_count": null,
      "outputs": [
        {
          "output_type": "execute_result",
          "data": {
            "text/plain": [
              "MultilayerLSTM(\n",
              "  (lstm): LSTM(1, 128, num_layers=6, batch_first=True)\n",
              "  (fc1): Linear(in_features=256, out_features=128, bias=True)\n",
              "  (bn1): BatchNorm1d(128, eps=1e-05, momentum=0.1, affine=True, track_running_stats=True)\n",
              "  (do1): Dropout(p=0.25, inplace=False)\n",
              "  (relu): ReLU()\n",
              "  (fc2): Linear(in_features=128, out_features=600, bias=True)\n",
              ")"
            ]
          },
          "metadata": {
            "tags": []
          },
          "execution_count": 13
        }
      ]
    },
    {
      "cell_type": "code",
      "metadata": {
        "colab": {
          "base_uri": "https://localhost:8080/"
        },
        "id": "vFlPh4MYJBRO",
        "outputId": "09f7916f-b716-4a01-ee6f-0f4af33c4fb7"
      },
      "source": [
        "num_epochs = 200\n",
        "train_hist = np.zeros(num_epochs)\n",
        "test_hist = np.zeros(num_epochs)\n",
        "best_loss = 1\n",
        "num_train_batches = len(train_fl_dataloader_1outputstep)\n",
        "num_test_batches = len(test_fl_dataloader_1outputstep)\n",
        "model_save_path = '/content/drive/My Drive/race_cars_raghu/models/multilayer_layer_lstm'\n",
        "\n",
        "\n",
        "# Train the model\n",
        "for epoch in range(num_epochs):\n",
        "  running_loss=0.0\n",
        "  multilayer_lstm.train()\n",
        "  for i, data in enumerate(train_fl_dataloader_1outputstep):\n",
        "    # with torch.autograd.set_detect_anomaly(True):\n",
        "    inputs, labels = data[0].cuda(), data[1].cuda()\n",
        "\n",
        "\n",
        "    outputs = multilayer_lstm(inputs)\n",
        "    optimizer.zero_grad()\n",
        "    \n",
        "    # obtain the loss function\n",
        "    loss = criterion(outputs, labels)\n",
        "    \n",
        "    loss.backward()\n",
        "    \n",
        "    optimizer.step()\n",
        "\n",
        "    running_loss += loss.item()\n",
        "\n",
        "  running_loss /= num_train_batches\n",
        "  print(\"Epoch: %d, train loss: %1.5f\" % (epoch, running_loss))\n",
        "  train_hist[epoch] = running_loss\n",
        "\n",
        "  ## Evaluate and save the best model\n",
        "  running_loss=0.0\n",
        "  multilayer_lstm.eval()\n",
        "  for i, data in enumerate(test_fl_dataloader_1outputstep):\n",
        "\n",
        "    inputs, labels = data[0].cuda(), data[1].cuda()\n",
        "    outputs = multilayer_lstm(inputs)\n",
        "\n",
        "    # obtain the loss function\n",
        "    loss = criterion(outputs, labels)\n",
        "    running_loss += loss.item()\n",
        "\n",
        "  running_loss /= num_train_batches\n",
        "  scheduler.step(running_loss)\n",
        "\n",
        "  if running_loss < best_loss:\n",
        "    print(f\"saving the model as {running_loss} is better than {best_loss}\")\n",
        "    torch.save(multilayer_lstm, model_save_path)\n",
        "    best_loss = running_loss\n",
        "\n",
        "  print(\"Epoch: %d, test loss: %1.5f\" % (epoch, running_loss))\n",
        "  test_hist[epoch] = running_loss\n"
      ],
      "execution_count": null,
      "outputs": [
        {
          "output_type": "stream",
          "text": [
            "Epoch: 0, train loss: 0.07466\n",
            "saving the model as 0.4750138993544593 is better than 1\n",
            "Epoch: 0, test loss: 0.47501\n",
            "Epoch: 1, train loss: 0.07381\n",
            "Epoch: 1, test loss: 0.65694\n",
            "Epoch: 2, train loss: 0.07333\n",
            "Epoch     4: reducing learning rate of group 0 to 5.0000e-04.\n",
            "Epoch: 2, test loss: 0.51797\n",
            "Epoch: 3, train loss: 0.07289\n",
            "saving the model as 0.12332793995965412 is better than 0.4750138993544593\n",
            "Epoch: 3, test loss: 0.12333\n",
            "Epoch: 4, train loss: 0.07282\n",
            "saving the model as 0.05843803726917366 is better than 0.12332793995965412\n",
            "Epoch: 4, test loss: 0.05844\n",
            "Epoch: 5, train loss: 0.07267\n",
            "saving the model as 0.03457006556289848 is better than 0.05843803726917366\n",
            "Epoch: 5, test loss: 0.03457\n",
            "Epoch: 6, train loss: 0.07258\n",
            "Epoch: 6, test loss: 0.07001\n",
            "Epoch: 7, train loss: 0.07246\n",
            "Epoch: 7, test loss: 0.06799\n",
            "Epoch: 8, train loss: 0.07236\n",
            "Epoch    10: reducing learning rate of group 0 to 2.5000e-04.\n",
            "Epoch: 8, test loss: 0.11169\n",
            "Epoch: 9, train loss: 0.07235\n",
            "Epoch: 9, test loss: 0.03545\n",
            "Epoch: 10, train loss: 0.07228\n",
            "Epoch: 10, test loss: 0.08299\n",
            "Epoch: 11, train loss: 0.07224\n",
            "Epoch    13: reducing learning rate of group 0 to 1.2500e-04.\n",
            "Epoch: 11, test loss: 0.31841\n",
            "Epoch: 12, train loss: 0.07225\n",
            "Epoch: 12, test loss: 0.10980\n",
            "Epoch: 13, train loss: 0.07162\n",
            "Epoch: 13, test loss: 0.04818\n",
            "Epoch: 14, train loss: 0.07143\n",
            "Epoch    16: reducing learning rate of group 0 to 6.2500e-05.\n",
            "Epoch: 14, test loss: 0.03550\n",
            "Epoch: 15, train loss: 0.07135\n",
            "saving the model as 0.03399037736887728 is better than 0.03457006556289848\n",
            "Epoch: 15, test loss: 0.03399\n",
            "Epoch: 16, train loss: 0.07122\n",
            "Epoch: 16, test loss: 0.03869\n",
            "Epoch: 17, train loss: 0.07115\n",
            "Epoch: 17, test loss: 0.10137\n",
            "Epoch: 18, train loss: 0.07106\n",
            "Epoch    20: reducing learning rate of group 0 to 3.1250e-05.\n",
            "Epoch: 18, test loss: 0.52722\n",
            "Epoch: 19, train loss: 0.07075\n",
            "Epoch: 19, test loss: 1.41921\n",
            "Epoch: 20, train loss: 0.07055\n",
            "Epoch: 20, test loss: 1.59763\n",
            "Epoch: 21, train loss: 0.07064\n",
            "Epoch    23: reducing learning rate of group 0 to 1.5625e-05.\n",
            "Epoch: 21, test loss: 0.06611\n",
            "Epoch: 22, train loss: 0.07043\n",
            "Epoch: 22, test loss: 0.12867\n",
            "Epoch: 23, train loss: 0.07027\n",
            "Epoch: 23, test loss: 0.07964\n",
            "Epoch: 24, train loss: 0.07013\n",
            "Epoch    26: reducing learning rate of group 0 to 7.8125e-06.\n",
            "Epoch: 24, test loss: 0.79552\n",
            "Epoch: 25, train loss: 0.06996\n",
            "Epoch: 25, test loss: 0.50420\n",
            "Epoch: 26, train loss: 0.06992\n",
            "Epoch: 26, test loss: 0.20053\n",
            "Epoch: 27, train loss: 0.06990\n",
            "Epoch    29: reducing learning rate of group 0 to 3.9063e-06.\n",
            "Epoch: 27, test loss: 0.03990\n",
            "Epoch: 28, train loss: 0.06981\n",
            "saving the model as 0.03306163368805379 is better than 0.03399037736887728\n",
            "Epoch: 28, test loss: 0.03306\n",
            "Epoch: 29, train loss: 0.06982\n",
            "Epoch: 29, test loss: 0.03900\n",
            "Epoch: 30, train loss: 0.06980\n",
            "Epoch: 30, test loss: 0.04104\n",
            "Epoch: 31, train loss: 0.06979\n",
            "Epoch    33: reducing learning rate of group 0 to 1.9531e-06.\n",
            "Epoch: 31, test loss: 0.04460\n",
            "Epoch: 32, train loss: 0.06975\n",
            "Epoch: 32, test loss: 0.04979\n",
            "Epoch: 33, train loss: 0.06975\n",
            "Epoch: 33, test loss: 0.04730\n",
            "Epoch: 34, train loss: 0.06975\n",
            "Epoch    36: reducing learning rate of group 0 to 9.7656e-07.\n",
            "Epoch: 34, test loss: 0.04885\n",
            "Epoch: 35, train loss: 0.06974\n",
            "saving the model as 0.031018415877135094 is better than 0.03306163368805379\n",
            "Epoch: 35, test loss: 0.03102\n",
            "Epoch: 36, train loss: 0.06972\n",
            "Epoch: 36, test loss: 0.03255\n",
            "Epoch: 37, train loss: 0.06973\n",
            "Epoch: 37, test loss: 0.03298\n",
            "Epoch: 38, train loss: 0.06972\n",
            "Epoch    40: reducing learning rate of group 0 to 4.8828e-07.\n",
            "Epoch: 38, test loss: 0.03259\n",
            "Epoch: 39, train loss: 0.06973\n",
            "saving the model as 0.027693197144420926 is better than 0.031018415877135094\n",
            "Epoch: 39, test loss: 0.02769\n",
            "Epoch: 40, train loss: 0.06972\n",
            "Epoch: 40, test loss: 0.02798\n",
            "Epoch: 41, train loss: 0.06971\n",
            "Epoch: 41, test loss: 0.02818\n",
            "Epoch: 42, train loss: 0.06970\n",
            "Epoch    44: reducing learning rate of group 0 to 2.4414e-07.\n",
            "Epoch: 42, test loss: 0.02837\n",
            "Epoch: 43, train loss: 0.06972\n",
            "saving the model as 0.027455338175547815 is better than 0.027693197144420926\n",
            "Epoch: 43, test loss: 0.02746\n",
            "Epoch: 44, train loss: 0.06971\n",
            "saving the model as 0.027449779053306773 is better than 0.027455338175547815\n",
            "Epoch: 44, test loss: 0.02745\n",
            "Epoch: 45, train loss: 0.06970\n",
            "saving the model as 0.027439116084396777 is better than 0.027449779053306773\n",
            "Epoch: 45, test loss: 0.02744\n",
            "Epoch: 46, train loss: 0.06968\n",
            "Epoch: 46, test loss: 0.02750\n",
            "Epoch: 47, train loss: 0.06970\n",
            "saving the model as 0.02740959943455027 is better than 0.027439116084396777\n",
            "Epoch: 47, test loss: 0.02741\n",
            "Epoch: 48, train loss: 0.06970\n",
            "saving the model as 0.02740025958794786 is better than 0.02740959943455027\n",
            "Epoch: 48, test loss: 0.02740\n",
            "Epoch: 49, train loss: 0.06971\n",
            "Epoch: 49, test loss: 0.02744\n",
            "Epoch: 50, train loss: 0.06970\n",
            "saving the model as 0.02739875723294239 is better than 0.02740025958794786\n",
            "Epoch: 50, test loss: 0.02740\n",
            "Epoch: 51, train loss: 0.06970\n",
            "Epoch    53: reducing learning rate of group 0 to 1.2207e-07.\n",
            "Epoch: 51, test loss: 0.02741\n",
            "Epoch: 52, train loss: 0.06970\n",
            "Epoch: 52, test loss: 0.02844\n",
            "Epoch: 53, train loss: 0.06969\n",
            "Epoch: 53, test loss: 0.02850\n",
            "Epoch: 54, train loss: 0.06970\n",
            "Epoch    56: reducing learning rate of group 0 to 1.0000e-07.\n",
            "Epoch: 54, test loss: 0.02846\n",
            "Epoch: 55, train loss: 0.06970\n",
            "Epoch: 55, test loss: 0.02877\n",
            "Epoch: 56, train loss: 0.06970\n",
            "Epoch: 56, test loss: 0.02881\n",
            "Epoch: 57, train loss: 0.06971\n",
            "Epoch: 57, test loss: 0.02874\n",
            "Epoch: 58, train loss: 0.06968\n",
            "Epoch: 58, test loss: 0.02877\n",
            "Epoch: 59, train loss: 0.06969\n",
            "Epoch: 59, test loss: 0.02882\n",
            "Epoch: 60, train loss: 0.06970\n",
            "Epoch: 60, test loss: 0.02884\n",
            "Epoch: 61, train loss: 0.06969\n",
            "Epoch: 61, test loss: 0.02881\n",
            "Epoch: 62, train loss: 0.06971\n",
            "Epoch: 62, test loss: 0.02882\n",
            "Epoch: 63, train loss: 0.06967\n",
            "Epoch: 63, test loss: 0.02882\n",
            "Epoch: 64, train loss: 0.06969\n",
            "Epoch: 64, test loss: 0.02878\n",
            "Epoch: 65, train loss: 0.06968\n",
            "Epoch: 65, test loss: 0.02885\n",
            "Epoch: 66, train loss: 0.06968\n",
            "Epoch: 66, test loss: 0.02881\n",
            "Epoch: 67, train loss: 0.06969\n",
            "Epoch: 67, test loss: 0.02878\n",
            "Epoch: 68, train loss: 0.06969\n",
            "Epoch: 68, test loss: 0.02870\n",
            "Epoch: 69, train loss: 0.06970\n",
            "Epoch: 69, test loss: 0.02880\n",
            "Epoch: 70, train loss: 0.06968\n",
            "Epoch: 70, test loss: 0.02889\n",
            "Epoch: 71, train loss: 0.06970\n",
            "Epoch: 71, test loss: 0.02881\n",
            "Epoch: 72, train loss: 0.06969\n",
            "Epoch: 72, test loss: 0.02886\n",
            "Epoch: 73, train loss: 0.06970\n",
            "Epoch: 73, test loss: 0.02882\n",
            "Epoch: 74, train loss: 0.06969\n",
            "Epoch: 74, test loss: 0.02885\n",
            "Epoch: 75, train loss: 0.06970\n",
            "Epoch: 75, test loss: 0.02876\n",
            "Epoch: 76, train loss: 0.06969\n",
            "Epoch: 76, test loss: 0.02883\n",
            "Epoch: 77, train loss: 0.06970\n",
            "Epoch: 77, test loss: 0.02880\n",
            "Epoch: 78, train loss: 0.06969\n",
            "Epoch: 78, test loss: 0.02880\n",
            "Epoch: 79, train loss: 0.06969\n",
            "Epoch: 79, test loss: 0.02877\n",
            "Epoch: 80, train loss: 0.06969\n",
            "Epoch: 80, test loss: 0.02884\n",
            "Epoch: 81, train loss: 0.06969\n",
            "Epoch: 81, test loss: 0.02887\n",
            "Epoch: 82, train loss: 0.06967\n",
            "Epoch: 82, test loss: 0.02880\n",
            "Epoch: 83, train loss: 0.06969\n",
            "Epoch: 83, test loss: 0.02882\n",
            "Epoch: 84, train loss: 0.06969\n",
            "Epoch: 84, test loss: 0.02882\n",
            "Epoch: 85, train loss: 0.06968\n",
            "Epoch: 85, test loss: 0.02883\n",
            "Epoch: 86, train loss: 0.06968\n",
            "Epoch: 86, test loss: 0.02879\n",
            "Epoch: 87, train loss: 0.06968\n",
            "Epoch: 87, test loss: 0.02883\n",
            "Epoch: 88, train loss: 0.06968\n",
            "Epoch: 88, test loss: 0.02882\n",
            "Epoch: 89, train loss: 0.06970\n",
            "Epoch: 89, test loss: 0.02877\n",
            "Epoch: 90, train loss: 0.06969\n",
            "Epoch: 90, test loss: 0.02892\n",
            "Epoch: 91, train loss: 0.06969\n",
            "Epoch: 91, test loss: 0.02878\n",
            "Epoch: 92, train loss: 0.06969\n",
            "Epoch: 92, test loss: 0.02879\n",
            "Epoch: 93, train loss: 0.06970\n",
            "Epoch: 93, test loss: 0.02877\n",
            "Epoch: 94, train loss: 0.06969\n",
            "Epoch: 94, test loss: 0.02880\n",
            "Epoch: 95, train loss: 0.06970\n",
            "Epoch: 95, test loss: 0.02880\n",
            "Epoch: 96, train loss: 0.06970\n",
            "Epoch: 96, test loss: 0.02882\n",
            "Epoch: 97, train loss: 0.06969\n",
            "Epoch: 97, test loss: 0.02880\n",
            "Epoch: 98, train loss: 0.06969\n",
            "Epoch: 98, test loss: 0.02881\n",
            "Epoch: 99, train loss: 0.06970\n",
            "Epoch: 99, test loss: 0.02891\n",
            "Epoch: 100, train loss: 0.06969\n",
            "Epoch: 100, test loss: 0.02886\n",
            "Epoch: 101, train loss: 0.06968\n",
            "Epoch: 101, test loss: 0.02892\n",
            "Epoch: 102, train loss: 0.06969\n",
            "Epoch: 102, test loss: 0.02889\n",
            "Epoch: 103, train loss: 0.06969\n",
            "Epoch: 103, test loss: 0.02884\n",
            "Epoch: 104, train loss: 0.06970\n",
            "Epoch: 104, test loss: 0.02884\n",
            "Epoch: 105, train loss: 0.06969\n",
            "Epoch: 105, test loss: 0.02881\n",
            "Epoch: 106, train loss: 0.06970\n",
            "Epoch: 106, test loss: 0.02881\n",
            "Epoch: 107, train loss: 0.06970\n",
            "Epoch: 107, test loss: 0.02884\n",
            "Epoch: 108, train loss: 0.06969\n",
            "Epoch: 108, test loss: 0.02884\n",
            "Epoch: 109, train loss: 0.06969\n",
            "Epoch: 109, test loss: 0.02882\n",
            "Epoch: 110, train loss: 0.06969\n",
            "Epoch: 110, test loss: 0.02876\n",
            "Epoch: 111, train loss: 0.06968\n",
            "Epoch: 111, test loss: 0.02880\n",
            "Epoch: 112, train loss: 0.06969\n",
            "Epoch: 112, test loss: 0.02874\n",
            "Epoch: 113, train loss: 0.06970\n",
            "Epoch: 113, test loss: 0.02880\n",
            "Epoch: 114, train loss: 0.06969\n",
            "Epoch: 114, test loss: 0.02887\n",
            "Epoch: 115, train loss: 0.06968\n",
            "Epoch: 115, test loss: 0.02878\n",
            "Epoch: 116, train loss: 0.06968\n",
            "Epoch: 116, test loss: 0.02877\n",
            "Epoch: 117, train loss: 0.06968\n",
            "Epoch: 117, test loss: 0.02881\n",
            "Epoch: 118, train loss: 0.06968\n",
            "Epoch: 118, test loss: 0.02884\n",
            "Epoch: 119, train loss: 0.06969\n",
            "Epoch: 119, test loss: 0.02881\n",
            "Epoch: 120, train loss: 0.06970\n",
            "Epoch: 120, test loss: 0.02883\n",
            "Epoch: 121, train loss: 0.06969\n",
            "Epoch: 121, test loss: 0.02883\n",
            "Epoch: 122, train loss: 0.06967\n",
            "Epoch: 122, test loss: 0.02874\n",
            "Epoch: 123, train loss: 0.06969\n",
            "Epoch: 123, test loss: 0.02879\n",
            "Epoch: 124, train loss: 0.06968\n",
            "Epoch: 124, test loss: 0.02877\n",
            "Epoch: 125, train loss: 0.06970\n",
            "Epoch: 125, test loss: 0.02878\n",
            "Epoch: 126, train loss: 0.06969\n",
            "Epoch: 126, test loss: 0.02876\n",
            "Epoch: 127, train loss: 0.06969\n",
            "Epoch: 127, test loss: 0.02878\n",
            "Epoch: 128, train loss: 0.06968\n",
            "Epoch: 128, test loss: 0.02872\n",
            "Epoch: 129, train loss: 0.06966\n",
            "Epoch: 129, test loss: 0.02880\n",
            "Epoch: 130, train loss: 0.06967\n",
            "Epoch: 130, test loss: 0.02880\n",
            "Epoch: 131, train loss: 0.06968\n",
            "Epoch: 131, test loss: 0.02882\n",
            "Epoch: 132, train loss: 0.06968\n",
            "Epoch: 132, test loss: 0.02882\n",
            "Epoch: 133, train loss: 0.06969\n",
            "Epoch: 133, test loss: 0.02884\n",
            "Epoch: 134, train loss: 0.06969\n",
            "Epoch: 134, test loss: 0.02884\n",
            "Epoch: 135, train loss: 0.06968\n",
            "Epoch: 135, test loss: 0.02894\n",
            "Epoch: 136, train loss: 0.06969\n"
          ],
          "name": "stdout"
        }
      ]
    },
    {
      "cell_type": "code",
      "metadata": {
        "id": "XFa53dLsZuKR"
      },
      "source": [
        "multilayer_lstm = torch.load('/content/drive/My Drive/race_cars_raghu/models/multilayer_layer_lstm_raghu1')"
      ],
      "execution_count": null,
      "outputs": []
    },
    {
      "cell_type": "code",
      "metadata": {
        "id": "vow8EbC_LvDg",
        "colab": {
          "base_uri": "https://localhost:8080/",
          "height": 282
        },
        "outputId": "f98cfb4e-9c77-4894-c75d-be98bcb0e6d0"
      },
      "source": [
        "test_dataset = test_fl_dataset_1outputstep[1]\n",
        "# test_dataset[0].unsqueeze(0).shape# # print(one_img.unsqueeze(0))\n",
        "multilayer_lstm.eval()\n",
        "outputs = multilayer_lstm(test_dataset[0].unsqueeze(0).cuda())\n",
        "\n",
        "# print(outputs.shape)\n",
        "plt.plot(np.squeeze(outputs.cpu().detach().numpy()),label='predict_fr')\n",
        "plt.plot(test_dataset[1].numpy(), label='real_fr')\n",
        "plt.legend(['pred', 'real'])"
      ],
      "execution_count": null,
      "outputs": [
        {
          "output_type": "execute_result",
          "data": {
            "text/plain": [
              "<matplotlib.legend.Legend at 0x7fa0f00be910>"
            ]
          },
          "metadata": {
            "tags": []
          },
          "execution_count": 15
        },
        {
          "output_type": "display_data",
          "data": {
            "image/png": "[encoded data removed]",
            "text/plain": [
              "<Figure size 432x288 with 1 Axes>"
            ]
          },
          "metadata": {
            "tags": [],
            "needs_background": "light"
          }
        }
      ]
    },
    {
      "cell_type": "code",
      "metadata": {
        "id": "93Q6Pp1BB-wD"
      },
      "source": [
        "def get_predictions(model, dataset, output_window):\n",
        "  data_len = len(dataset)\n",
        "  n_steps = data_len//output_window\n",
        "  predictions = []\n",
        "  actual = []\n",
        "  for i in range(n_steps):\n",
        "    data_chunk = dataset[i*output_window]\n",
        "    actual += list(data_chunk[1])\n",
        "    output = model(data_chunk[0].unsqueeze(0).cuda())\n",
        "    predictions += list(np.squeeze(output.cpu().detach().numpy()))\n",
        "\n",
        "  return predictions, actual"
      ],
      "execution_count": null,
      "outputs": []
    },
    {
      "cell_type": "code",
      "metadata": {
        "id": "_Nu9lH-UB_IL"
      },
      "source": [
        "preds, actual = get_predictions(multilayer_lstm, test_fl_dataset_1outputstep, 600)"
      ],
      "execution_count": null,
      "outputs": []
    },
    {
      "cell_type": "code",
      "metadata": {
        "id": "tu_pgJ7LCHUo"
      },
      "source": [
        "preds = sc.inverse_transform(np.array(preds).reshape(1, -1))\n",
        "actual = sc.inverse_transform(np.array(actual).reshape(1, -1))"
      ],
      "execution_count": null,
      "outputs": []
    },
    {
      "cell_type": "code",
      "metadata": {
        "id": "r9kW5mxwLPQi"
      },
      "source": [
        "preds = np.squeeze(preds)\n",
        "actual = np.squeeze(actual)"
      ],
      "execution_count": null,
      "outputs": []
    },
    {
      "cell_type": "code",
      "metadata": {
        "id": "rtx209ojLR6b"
      },
      "source": [
        "plt.figure(figsize=(35, 7))\n",
        "plt.plot(actual[:61200])\n",
        "plt.plot(preds[:61200])\n",
        "\n",
        "plt.legend(['actual', 'preds'])"
      ],
      "execution_count": null,
      "outputs": []
    }
  ]
}